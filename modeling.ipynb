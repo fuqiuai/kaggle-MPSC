{
 "cells": [
  {
   "cell_type": "code",
   "execution_count": 1,
   "metadata": {},
   "outputs": [],
   "source": [
    "# import package\n",
    "import pandas as pd\n",
    "import numpy as np\n",
    "\n",
    "from sklearn.linear_model import LinearRegression\n",
    "from sklearn.linear_model import SGDRegressor\n",
    "from sklearn.linear_model import Ridge\n",
    "from sklearn.linear_model import Lars\n",
    "from sklearn.linear_model import ElasticNet\n",
    "from sklearn.linear_model import PassiveAggressiveRegressor\n",
    "from sklearn.kernel_ridge import KernelRidge\n",
    "from sklearn.gaussian_process import GaussianProcessRegressor\n",
    "from sklearn.neighbors import KNeighborsRegressor\n",
    "from sklearn.tree import DecisionTreeRegressor\n",
    "from sklearn.ensemble import RandomForestRegressor\n",
    "from sklearn.ensemble import GradientBoostingRegressor\n",
    "from sklearn.ensemble import AdaBoostRegressor\n",
    "\n",
    "from sklearn.model_selection import GridSearchCV, cross_val_score\n",
    "from sklearn.model_selection import train_test_split\n",
    "from sklearn.metrics import mean_squared_log_error\n",
    "\n",
    "import time\n",
    "import math"
   ]
  },
  {
   "cell_type": "code",
   "execution_count": 2,
   "metadata": {},
   "outputs": [
    {
     "name": "stdout",
     "output_type": "stream",
     "text": [
      "start reading...\n",
      "end reading\n",
      "reading cost  31.76483941078186 s\n"
     ]
    }
   ],
   "source": [
    " # load data\n",
    "time1 = time.time()\n",
    "print(\"start reading...\")\n",
    "\n",
    "dataset = pd.read_csv('./data/dataset_new.csv', header=0)\n",
    "\n",
    "print(\"end reading\")\n",
    "time2 = time.time()\n",
    "print(\"reading cost \",time2 - time1, \"s\")"
   ]
  },
  {
   "cell_type": "code",
   "execution_count": 3,
   "metadata": {},
   "outputs": [
    {
     "name": "stdout",
     "output_type": "stream",
     "text": [
      "(2175890, 51)\n"
     ]
    },
    {
     "data": {
      "text/html": [
       "<div>\n",
       "<style>\n",
       "    .dataframe thead tr:only-child th {\n",
       "        text-align: right;\n",
       "    }\n",
       "\n",
       "    .dataframe thead th {\n",
       "        text-align: left;\n",
       "    }\n",
       "\n",
       "    .dataframe tbody tr th {\n",
       "        vertical-align: top;\n",
       "    }\n",
       "</style>\n",
       "<table border=\"1\" class=\"dataframe\">\n",
       "  <thead>\n",
       "    <tr style=\"text-align: right;\">\n",
       "      <th></th>\n",
       "      <th>item_condition_id</th>\n",
       "      <th>price</th>\n",
       "      <th>shipping</th>\n",
       "      <th>test_id</th>\n",
       "      <th>train_id</th>\n",
       "      <th>brand_bool</th>\n",
       "      <th>brand_label</th>\n",
       "      <th>cat1_label</th>\n",
       "      <th>cat2_label</th>\n",
       "      <th>cat_bool</th>\n",
       "      <th>...</th>\n",
       "      <th>subname_10</th>\n",
       "      <th>subname_11</th>\n",
       "      <th>subname_12</th>\n",
       "      <th>subname_13</th>\n",
       "      <th>subname_14</th>\n",
       "      <th>subname_15</th>\n",
       "      <th>subname_16</th>\n",
       "      <th>subname_17</th>\n",
       "      <th>subname_18</th>\n",
       "      <th>subname_19</th>\n",
       "    </tr>\n",
       "  </thead>\n",
       "  <tbody>\n",
       "    <tr>\n",
       "      <th>0</th>\n",
       "      <td>3</td>\n",
       "      <td>10.0</td>\n",
       "      <td>1</td>\n",
       "      <td>NaN</td>\n",
       "      <td>0.0</td>\n",
       "      <td>0</td>\n",
       "      <td>0</td>\n",
       "      <td>1</td>\n",
       "      <td>1</td>\n",
       "      <td>1</td>\n",
       "      <td>...</td>\n",
       "      <td>-0.043068</td>\n",
       "      <td>-0.054080</td>\n",
       "      <td>-0.005593</td>\n",
       "      <td>-0.090010</td>\n",
       "      <td>-0.009460</td>\n",
       "      <td>0.026508</td>\n",
       "      <td>0.024064</td>\n",
       "      <td>-0.007097</td>\n",
       "      <td>-0.042367</td>\n",
       "      <td>-0.000171</td>\n",
       "    </tr>\n",
       "    <tr>\n",
       "      <th>1</th>\n",
       "      <td>3</td>\n",
       "      <td>52.0</td>\n",
       "      <td>0</td>\n",
       "      <td>NaN</td>\n",
       "      <td>1.0</td>\n",
       "      <td>1</td>\n",
       "      <td>1</td>\n",
       "      <td>2</td>\n",
       "      <td>2</td>\n",
       "      <td>1</td>\n",
       "      <td>...</td>\n",
       "      <td>-0.000113</td>\n",
       "      <td>0.000157</td>\n",
       "      <td>-0.000103</td>\n",
       "      <td>0.000015</td>\n",
       "      <td>-0.000001</td>\n",
       "      <td>-0.000012</td>\n",
       "      <td>-0.000034</td>\n",
       "      <td>-0.000010</td>\n",
       "      <td>-0.000044</td>\n",
       "      <td>0.000026</td>\n",
       "    </tr>\n",
       "    <tr>\n",
       "      <th>2</th>\n",
       "      <td>1</td>\n",
       "      <td>10.0</td>\n",
       "      <td>1</td>\n",
       "      <td>NaN</td>\n",
       "      <td>2.0</td>\n",
       "      <td>1</td>\n",
       "      <td>2</td>\n",
       "      <td>3</td>\n",
       "      <td>3</td>\n",
       "      <td>1</td>\n",
       "      <td>...</td>\n",
       "      <td>-0.000159</td>\n",
       "      <td>-0.003266</td>\n",
       "      <td>0.000844</td>\n",
       "      <td>-0.000820</td>\n",
       "      <td>-0.000521</td>\n",
       "      <td>-0.000137</td>\n",
       "      <td>-0.001059</td>\n",
       "      <td>-0.000080</td>\n",
       "      <td>0.003946</td>\n",
       "      <td>-0.002160</td>\n",
       "    </tr>\n",
       "    <tr>\n",
       "      <th>3</th>\n",
       "      <td>1</td>\n",
       "      <td>35.0</td>\n",
       "      <td>1</td>\n",
       "      <td>NaN</td>\n",
       "      <td>3.0</td>\n",
       "      <td>0</td>\n",
       "      <td>0</td>\n",
       "      <td>4</td>\n",
       "      <td>4</td>\n",
       "      <td>1</td>\n",
       "      <td>...</td>\n",
       "      <td>-0.011362</td>\n",
       "      <td>-0.013510</td>\n",
       "      <td>0.002793</td>\n",
       "      <td>-0.002177</td>\n",
       "      <td>0.000622</td>\n",
       "      <td>-0.001707</td>\n",
       "      <td>-0.008709</td>\n",
       "      <td>0.003225</td>\n",
       "      <td>0.023608</td>\n",
       "      <td>0.017805</td>\n",
       "    </tr>\n",
       "    <tr>\n",
       "      <th>4</th>\n",
       "      <td>1</td>\n",
       "      <td>44.0</td>\n",
       "      <td>0</td>\n",
       "      <td>NaN</td>\n",
       "      <td>4.0</td>\n",
       "      <td>0</td>\n",
       "      <td>0</td>\n",
       "      <td>3</td>\n",
       "      <td>5</td>\n",
       "      <td>1</td>\n",
       "      <td>...</td>\n",
       "      <td>-0.009359</td>\n",
       "      <td>-0.006795</td>\n",
       "      <td>0.010102</td>\n",
       "      <td>0.001983</td>\n",
       "      <td>-0.000288</td>\n",
       "      <td>0.000131</td>\n",
       "      <td>0.001570</td>\n",
       "      <td>0.010042</td>\n",
       "      <td>0.002580</td>\n",
       "      <td>0.001851</td>\n",
       "    </tr>\n",
       "  </tbody>\n",
       "</table>\n",
       "<p>5 rows × 51 columns</p>\n",
       "</div>"
      ],
      "text/plain": [
       "   item_condition_id  price  shipping  test_id  train_id  brand_bool  \\\n",
       "0                  3   10.0         1      NaN       0.0           0   \n",
       "1                  3   52.0         0      NaN       1.0           1   \n",
       "2                  1   10.0         1      NaN       2.0           1   \n",
       "3                  1   35.0         1      NaN       3.0           0   \n",
       "4                  1   44.0         0      NaN       4.0           0   \n",
       "\n",
       "   brand_label  cat1_label  cat2_label  cat_bool     ...      subname_10  \\\n",
       "0            0           1           1         1     ...       -0.043068   \n",
       "1            1           2           2         1     ...       -0.000113   \n",
       "2            2           3           3         1     ...       -0.000159   \n",
       "3            0           4           4         1     ...       -0.011362   \n",
       "4            0           3           5         1     ...       -0.009359   \n",
       "\n",
       "   subname_11  subname_12  subname_13  subname_14  subname_15  subname_16  \\\n",
       "0   -0.054080   -0.005593   -0.090010   -0.009460    0.026508    0.024064   \n",
       "1    0.000157   -0.000103    0.000015   -0.000001   -0.000012   -0.000034   \n",
       "2   -0.003266    0.000844   -0.000820   -0.000521   -0.000137   -0.001059   \n",
       "3   -0.013510    0.002793   -0.002177    0.000622   -0.001707   -0.008709   \n",
       "4   -0.006795    0.010102    0.001983   -0.000288    0.000131    0.001570   \n",
       "\n",
       "   subname_17  subname_18  subname_19  \n",
       "0   -0.007097   -0.042367   -0.000171  \n",
       "1   -0.000010   -0.000044    0.000026  \n",
       "2   -0.000080    0.003946   -0.002160  \n",
       "3    0.003225    0.023608    0.017805  \n",
       "4    0.010042    0.002580    0.001851  \n",
       "\n",
       "[5 rows x 51 columns]"
      ]
     },
     "execution_count": 3,
     "metadata": {},
     "output_type": "execute_result"
    }
   ],
   "source": [
    "# check information\n",
    "print(dataset.shape)\n",
    "dataset.head()"
   ]
  },
  {
   "cell_type": "code",
   "execution_count": 6,
   "metadata": {},
   "outputs": [
    {
     "name": "stderr",
     "output_type": "stream",
     "text": [
      "/usr/local/lib/python3.4/dist-packages/ipykernel_launcher.py:7: SettingWithCopyWarning: \n",
      "A value is trying to be set on a copy of a slice from a DataFrame\n",
      "\n",
      "See the caveats in the documentation: http://pandas.pydata.org/pandas-docs/stable/indexing.html#indexing-view-versus-copy\n",
      "  import sys\n"
     ]
    }
   ],
   "source": [
    "# split dataset to train and test\n",
    "train = dataset[:1482531]\n",
    "Y_train = train[\"price\"]\n",
    "X_train = train.drop(labels=[\"price\",\"test_id\"], axis=1, inplace=False)\n",
    "\n",
    "test = dataset[1482531:]\n",
    "test.drop(labels=[\"price\",\"train_id\"], axis=1, inplace=True)"
   ]
  },
  {
   "cell_type": "code",
   "execution_count": 4,
   "metadata": {},
   "outputs": [],
   "source": [
    "# print(X_train.isnull().sum())\n",
    "# print(Y_train.isnull().sum())\n",
    "# print(test.isnull().sum())"
   ]
  },
  {
   "cell_type": "code",
   "execution_count": 7,
   "metadata": {},
   "outputs": [
    {
     "name": "stdout",
     "output_type": "stream",
     "text": [
      "(1482531, 49) RangeIndex(start=0, stop=1482531, step=1)\n",
      "(1482531,) RangeIndex(start=0, stop=1482531, step=1)\n",
      "(693359, 49) RangeIndex(start=1482531, stop=2175890, step=1)\n"
     ]
    }
   ],
   "source": [
    "print(X_train.shape,X_train.index)\n",
    "print(Y_train.shape,Y_train.index)\n",
    "print(test.shape,test.index)"
   ]
  },
  {
   "cell_type": "markdown",
   "metadata": {
    "collapsed": true
   },
   "source": [
    "## 使用交叉验证法进行模型选择"
   ]
  },
  {
   "cell_type": "code",
   "execution_count": 8,
   "metadata": {},
   "outputs": [
    {
     "name": "stdout",
     "output_type": "stream",
     "text": [
      "(1037771, 49) (1037771,) (444760, 49) (444760,)\n"
     ]
    }
   ],
   "source": [
    "# split\n",
    "X1_train, X1_test, y1_train, y1_test = train_test_split(X_train, Y_train, test_size=0.3, random_state=0)\n",
    "print(X1_train.shape,y1_train.shape,X1_test.shape,y1_test.shape)"
   ]
  },
  {
   "cell_type": "code",
   "execution_count": 8,
   "metadata": {},
   "outputs": [
    {
     "name": "stderr",
     "output_type": "stream",
     "text": [
      "/usr/local/lib/python3.4/dist-packages/sklearn/linear_model/stochastic_gradient.py:84: FutureWarning: max_iter and tol parameters have been added in <class 'sklearn.linear_model.stochastic_gradient.SGDRegressor'> in 0.19. If both are left unset, they default to max_iter=5 and tol=None. If tol is not None, max_iter defaults to max_iter=1000. From 0.21, default max_iter will be 1000, and default tol will be 1e-3.\n",
      "  \"and default tol will be 1e-3.\" % type(self), FutureWarning)\n",
      "/usr/local/lib/python3.4/dist-packages/sklearn/linear_model/stochastic_gradient.py:84: FutureWarning: max_iter and tol parameters have been added in <class 'sklearn.linear_model.passive_aggressive.PassiveAggressiveRegressor'> in 0.19. If both are left unset, they default to max_iter=5 and tol=None. If tol is not None, max_iter defaults to max_iter=1000. From 0.21, default max_iter will be 1000, and default tol will be 1e-3.\n",
      "  \"and default tol will be 1e-3.\" % type(self), FutureWarning)\n"
     ]
    }
   ],
   "source": [
    "regressors = []\n",
    "regressors.append(LinearRegression())\n",
    "regressors.append(SGDRegressor())\n",
    "regressors.append(Ridge())\n",
    "regressors.append(Lars())\n",
    "regressors.append(PassiveAggressiveRegressor())\n",
    "regressors.append(ElasticNet())\n",
    "# regressors.append(KernelRidge())\n",
    "# regressors.append(GaussianProcessRegressor())\n",
    "regressors.append(KNeighborsRegressor())\n",
    "regressors.append(DecisionTreeRegressor())\n",
    "regressors.append(RandomForestRegressor())\n",
    "regressors.append(GradientBoostingRegressor())\n",
    "regressors.append(AdaBoostRegressor())"
   ]
  },
  {
   "cell_type": "code",
   "execution_count": 11,
   "metadata": {
    "scrolled": true
   },
   "outputs": [
    {
     "name": "stdout",
     "output_type": "stream",
     "text": [
      "modeling... LinearRegression(copy_X=True, fit_intercept=True, n_jobs=1, normalize=False)\n",
      "the RMSLE  is: 0.7643435406055701\n",
      "it cost  9.680118560791016 s\n",
      "modeling... SGDRegressor(alpha=0.0001, average=False, epsilon=0.1, eta0=0.01,\n",
      "       fit_intercept=True, l1_ratio=0.15, learning_rate='invscaling',\n",
      "       loss='squared_loss', max_iter=5, n_iter=None, penalty='l2',\n",
      "       power_t=0.25, random_state=None, shuffle=True, tol=None, verbose=0,\n",
      "       warm_start=False)\n",
      "the RMSLE  is: 43.6086064192526\n",
      "it cost  3.3533308506011963 s\n",
      "modeling... Ridge(alpha=1.0, copy_X=True, fit_intercept=True, max_iter=None,\n",
      "   normalize=False, random_state=None, solver='auto', tol=0.001)\n",
      "the RMSLE  is: 0.7643276608317192\n",
      "it cost  7.254590034484863 s\n",
      "modeling... Lars(copy_X=True, eps=2.2204460492503131e-16, fit_intercept=True,\n",
      "   fit_path=True, n_nonzero_coefs=500, normalize=True, positive=False,\n",
      "   precompute='auto', verbose=False)\n",
      "the RMSLE  is: 0.7643435406057609\n",
      "it cost  7.29969334602356 s\n",
      "modeling... PassiveAggressiveRegressor(C=1.0, average=False, epsilon=0.1,\n",
      "              fit_intercept=True, loss='epsilon_insensitive', max_iter=5,\n",
      "              n_iter=None, random_state=None, shuffle=True, tol=None,\n",
      "              verbose=0, warm_start=False)\n",
      "the RMSLE  is: 2.151052783889033\n",
      "it cost  3.0590150356292725 s\n",
      "modeling... ElasticNet(alpha=1.0, copy_X=True, fit_intercept=True, l1_ratio=0.5,\n",
      "      max_iter=1000, normalize=False, positive=False, precompute=False,\n",
      "      random_state=None, selection='cyclic', tol=0.0001, warm_start=False)\n",
      "the RMSLE  is: 0.7963473982878865\n",
      "it cost  2.8084146976470947 s\n",
      "modeling... KNeighborsRegressor(algorithm='auto', leaf_size=30, metric='minkowski',\n",
      "          metric_params=None, n_jobs=1, n_neighbors=5, p=2,\n",
      "          weights='uniform')\n",
      "the RMSLE  is: 0.8859469205194512\n",
      "it cost  55.05194091796875 s\n",
      "modeling... DecisionTreeRegressor(criterion='mse', max_depth=None, max_features=None,\n",
      "           max_leaf_nodes=None, min_impurity_decrease=0.0,\n",
      "           min_impurity_split=None, min_samples_leaf=1,\n",
      "           min_samples_split=2, min_weight_fraction_leaf=0.0,\n",
      "           presort=False, random_state=None, splitter='best')\n",
      "the RMSLE  is: 0.7928287774803959\n",
      "it cost  167.56190586090088 s\n",
      "modeling... RandomForestRegressor(bootstrap=True, criterion='mse', max_depth=None,\n",
      "           max_features='auto', max_leaf_nodes=None,\n",
      "           min_impurity_decrease=0.0, min_impurity_split=None,\n",
      "           min_samples_leaf=1, min_samples_split=2,\n",
      "           min_weight_fraction_leaf=0.0, n_estimators=10, n_jobs=1,\n",
      "           oob_score=False, random_state=None, verbose=0, warm_start=False)\n",
      "the RMSLE  is: 0.6475083041382675\n",
      "it cost  1034.6331179141998 s\n",
      "modeling... GradientBoostingRegressor(alpha=0.9, criterion='friedman_mse', init=None,\n",
      "             learning_rate=0.1, loss='ls', max_depth=3, max_features=None,\n",
      "             max_leaf_nodes=None, min_impurity_decrease=0.0,\n",
      "             min_impurity_split=None, min_samples_leaf=1,\n",
      "             min_samples_split=2, min_weight_fraction_leaf=0.0,\n",
      "             n_estimators=100, presort='auto', random_state=None,\n",
      "             subsample=1.0, verbose=0, warm_start=False)\n",
      "the RMSLE  is: 0.6877090850584006\n",
      "it cost  1212.3750641345978 s\n",
      "modeling... AdaBoostRegressor(base_estimator=None, learning_rate=1.0, loss='linear',\n",
      "         n_estimators=50, random_state=None)\n",
      "the RMSLE  is: 1.4138998397103455\n",
      "it cost  409.10157322883606 s\n"
     ]
    }
   ],
   "source": [
    "# modeling\n",
    "results = []\n",
    "\n",
    "for reg in regressors:\n",
    "    time1 = time.time()\n",
    "    print(\"modeling...\", reg)\n",
    "\n",
    "    reg.fit(X1_train,y1_train)\n",
    "    result = reg.predict(X1_test)\n",
    "    result[result<0] = 0.001\n",
    "    RMSLE = math.sqrt(mean_squared_log_error(y1_test, result))\n",
    "    print(\"the RMSLE  is:\", RMSLE)\n",
    "    results.append(RMSLE)\n",
    "\n",
    "    time2 = time.time()\n",
    "    print(\"it cost \",time2 - time1, \"s\")\n"
   ]
  },
  {
   "cell_type": "code",
   "execution_count": 23,
   "metadata": {},
   "outputs": [
    {
     "name": "stdout",
     "output_type": "stream",
     "text": [
      "results: \n",
      " [0.7643435406055701, 0, 0.7643276608317192, 0.7643435406057609, 2.151052783889033, 0.7963473982878865, 0.8859469205194512, 0.7928287774803959, 0.6475083041382675, 0.6877090850584006, 1.4138998397103455]\n"
     ]
    },
    {
     "data": {
      "image/png": "[encoded data removed]",
      "text/plain": [
       "<matplotlib.figure.Figure at 0x7fa23190e1d0>"
      ]
     },
     "metadata": {},
     "output_type": "display_data"
    }
   ],
   "source": [
    "import matplotlib.pyplot as plt\n",
    "import seaborn as sns\n",
    "sns.set(style='white', context='notebook', palette='deep')\n",
    "\n",
    "results[1]=0\n",
    "print(\"results:\",'\\n',results)\n",
    "\n",
    "# 画图\n",
    "cv_res = pd.DataFrame({\"RMSLE\": results, \"Algorithm\": [\"LinearRegression\",\"SGDRegressor\",\"Ridge\",\n",
    "\"Lars\",\"PassiveAggressiveRegressor\",\"ElasticNet\",\"KNeighborsRegressor\",\"DecisionTreeRegressor\",\"RandomForestRegressor\",\"GradientBoostingRegressor\",\"AdaBoostRegressor\"]})\n",
    "g = sns.barplot(\"RMSLE\", \"Algorithm\", data=cv_res, palette=\"Set3\", orient=\"h\")\n",
    "g.set_xlabel(\"RMSLE\")\n",
    "g = g.set_title(\"Cross validation scores\")\n",
    "plt.show()"
   ]
  },
  {
   "cell_type": "code",
   "execution_count": 5,
   "metadata": {},
   "outputs": [
    {
     "name": "stderr",
     "output_type": "stream",
     "text": [
      "/usr/local/lib/python3.4/dist-packages/sklearn/cross_validation.py:41: DeprecationWarning: This module was deprecated in version 0.18 in favor of the model_selection module into which all the refactored classes and functions are moved. Also note that the interface of the new CV iterators are different from that of this module. This module will be removed in 0.20.\n",
      "  \"This module will be removed in 0.20.\", DeprecationWarning)\n"
     ]
    },
    {
     "name": "stdout",
     "output_type": "stream",
     "text": [
      "start fiting...\n",
      "fit end\n"
     ]
    }
   ],
   "source": [
    "from xgboost.sklearn import XGBRegressor\n",
    "from sklearn.metrics import make_scorer\n",
    "\n",
    "def my_score_func(ground_truth, predictions):\n",
    "    predictions[predictions<0] = 0.001\n",
    "    return math.sqrt(mean_squared_log_error(ground_truth, predictions))\n",
    "\n",
    "RMSLE  = make_scorer(my_score_func, greater_is_better=False)\n",
    "\n",
    "reg = XGBRegressor()\n",
    "xgb_param_grid = {\"learning_rate\" : [0.1], \n",
    "#                \"min_child_weight\":[1, 2, 3]\n",
    "              \"max_depth\" : [5], \n",
    "#               \"gamma\" :[0.1, 0.2]\n",
    "                 }\n",
    "\n",
    "gsXGB = GridSearchCV(reg,  param_grid=xgb_param_grid, cv=2, scoring=RMSLE, n_jobs=4)\n",
    "\n",
    "print(\"start fiting...\")\n",
    "gsXGB.fit(X_train, Y_train)\n",
    "print(\"fit end\")"
   ]
  },
  {
   "cell_type": "code",
   "execution_count": 9,
   "metadata": {},
   "outputs": [
    {
     "name": "stdout",
     "output_type": "stream",
     "text": [
      "XGBRegressor(base_score=0.5, colsample_bylevel=1, colsample_bytree=1, gamma=0,\n",
      "       learning_rate=0.1, max_delta_step=0, max_depth=5,\n",
      "       min_child_weight=1, missing=None, n_estimators=100, nthread=-1,\n",
      "       objective='reg:linear', reg_alpha=0, reg_lambda=1,\n",
      "       scale_pos_weight=1, seed=0, silent=True, subsample=1)\n",
      "-0.657533862055\n",
      "{'max_depth': 5, 'learning_rate': 0.1}\n",
      "{'split0_test_score': array([-0.65531604]), 'mean_score_time': array([ 3.86311722]), 'std_score_time': array([ 1.36408877]), 'mean_train_score': array([-0.64998308]), 'std_train_score': array([ 0.00056672]), 'rank_test_score': array([1], dtype=int32), 'params': [{'max_depth': 5, 'learning_rate': 0.1}], 'param_learning_rate': masked_array(data = [0.1],\n",
      "             mask = [False],\n",
      "       fill_value = ?)\n",
      ", 'split1_train_score': array([-0.6505498]), 'split1_test_score': array([-0.65975169]), 'std_test_score': array([ 0.00221782]), 'split0_train_score': array([-0.64941636]), 'std_fit_time': array([ 3.94080865]), 'mean_fit_time': array([ 447.2793895]), 'mean_test_score': array([-0.65753386]), 'param_max_depth': masked_array(data = [5],\n",
      "             mask = [False],\n",
      "       fill_value = ?)\n",
      "}\n"
     ]
    }
   ],
   "source": [
    "print(gsXGB.best_estimator_)\n",
    "print(gsXGB.best_score_)\n",
    "print(gsXGB.best_params_)\n",
    "print(gsXGB.cv_results_)"
   ]
  },
  {
   "cell_type": "code",
   "execution_count": 8,
   "metadata": {},
   "outputs": [
    {
     "name": "stdout",
     "output_type": "stream",
     "text": [
      "modeling... XGBRegressor(base_score=0.5, colsample_bylevel=1, colsample_bytree=1, gamma=0,\n",
      "       learning_rate=0.1, max_delta_step=0, max_depth=3,\n",
      "       min_child_weight=1, missing=None, n_estimators=100, nthread=-1,\n",
      "       objective='reg:linear', reg_alpha=0, reg_lambda=1,\n",
      "       scale_pos_weight=1, seed=0, silent=True, subsample=1)\n",
      "the RMSLE  is: 0.6887359514239281\n",
      "it cost  154.30808806419373 s\n"
     ]
    }
   ],
   "source": [
    "from xgboost.sklearn import XGBRegressor\n",
    "\n",
    "reg = XGBRegressor()\n",
    "\n",
    "time1 = time.time()\n",
    "print(\"modeling...\", reg)\n",
    "\n",
    "reg.fit(X1_train,y1_train)\n",
    "result = reg.predict(X1_test)\n",
    "result[result<0] = 0.001\n",
    "\n",
    "RMSLE = math.sqrt(mean_squared_log_error(y1_test, result))\n",
    "print(\"the RMSLE  is:\", RMSLE)\n",
    "\n",
    "time2 = time.time()\n",
    "print(\"it cost \",time2 - time1, \"s\")\n"
   ]
  },
  {
   "cell_type": "code",
   "execution_count": 10,
   "metadata": {},
   "outputs": [
    {
     "name": "stdout",
     "output_type": "stream",
     "text": [
      "modeling... XGBRegressor(base_score=0.5, colsample_bylevel=1, colsample_bytree=1, gamma=0,\n",
      "       learning_rate=0.1, max_delta_step=0, max_depth=5,\n",
      "       min_child_weight=1, missing=None, n_estimators=100, nthread=-1,\n",
      "       objective='reg:linear', reg_alpha=0, reg_lambda=1,\n",
      "       scale_pos_weight=1, seed=0, silent=True, subsample=1)\n",
      "the RMSLE  is: 0.6505312067538976\n",
      "it cost  244.38834238052368 s\n"
     ]
    }
   ],
   "source": [
    "time1 = time.time()\n",
    "reg = XGBRegressor(max_depth=5)\n",
    "print(\"modeling...\", reg)\n",
    "\n",
    "reg.fit(X1_train,y1_train)\n",
    "result = reg.predict(X1_test)\n",
    "result[result<0] = 0.001\n",
    "\n",
    "RMSLE = math.sqrt(mean_squared_log_error(y1_test, result))\n",
    "print(\"the RMSLE  is:\", RMSLE)\n",
    "\n",
    "time2 = time.time()\n",
    "print(\"it cost \",time2 - time1, \"s\")"
   ]
  },
  {
   "cell_type": "code",
   "execution_count": 11,
   "metadata": {},
   "outputs": [
    {
     "name": "stdout",
     "output_type": "stream",
     "text": [
      "modeling... XGBRegressor(base_score=0.5, colsample_bylevel=1, colsample_bytree=1, gamma=0,\n",
      "       learning_rate=0.1, max_delta_step=0, max_depth=5,\n",
      "       min_child_weight=3, missing=None, n_estimators=100, nthread=-1,\n",
      "       objective='reg:linear', reg_alpha=0, reg_lambda=1,\n",
      "       scale_pos_weight=1, seed=0, silent=True, subsample=1)\n",
      "the RMSLE  is: 0.6503223267927434\n",
      "it cost  238.94700121879578 s\n"
     ]
    }
   ],
   "source": [
    "time1 = time.time()\n",
    "reg = XGBRegressor(max_depth=5, min_child_weight=3)\n",
    "print(\"modeling...\", reg)\n",
    "\n",
    "reg.fit(X1_train,y1_train)\n",
    "result = reg.predict(X1_test)\n",
    "result[result<0] = 0.001\n",
    "\n",
    "RMSLE = math.sqrt(mean_squared_log_error(y1_test, result))\n",
    "print(\"the RMSLE  is:\", RMSLE)\n",
    "\n",
    "time2 = time.time()\n",
    "print(\"it cost \",time2 - time1, \"s\")"
   ]
  },
  {
   "cell_type": "code",
   "execution_count": 11,
   "metadata": {},
   "outputs": [
    {
     "name": "stdout",
     "output_type": "stream",
     "text": [
      "modeling... LGBMRegressor(boosting_type='gbdt', colsample_bytree=1.0, learning_rate=0.2,\n",
      "       max_depth=3, min_child_samples=20, min_child_weight=0.001,\n",
      "       min_split_gain=0.0, n_estimators=100, n_jobs=-1, num_leaves=31,\n",
      "       objective='regression', random_state=None, reg_alpha=0.0,\n",
      "       reg_lambda=0.0, silent=True, subsample=1.0,\n",
      "       subsample_for_bin=200000, subsample_freq=1)\n",
      "the RMSLE  is: 0.6833126894808818\n",
      "it cost  197.8381986618042 s\n"
     ]
    }
   ],
   "source": [
    "import lightgbm as lgb\n",
    "\n",
    "reg = lgb.LGBMRegressor(objective='regression',\n",
    "                        num_leaves=31,\n",
    "                        learning_rate=0.2,\n",
    "                        max_depth=3,\n",
    "                        n_estimators=100)\n",
    "\n",
    "print(\"modeling...\", reg)\n",
    "\n",
    "reg.fit(X1_train,y1_train)\n",
    "result = reg.predict(X1_test)\n",
    "result[result<0] = 0.001\n",
    "\n",
    "RMSLE = math.sqrt(mean_squared_log_error(y1_test, result))\n",
    "print(\"the RMSLE  is:\", RMSLE)\n",
    "\n",
    "time2 = time.time()\n",
    "print(\"it cost \",time2 - time1, \"s\")"
   ]
  },
  {
   "cell_type": "code",
   "execution_count": null,
   "metadata": {},
   "outputs": [],
   "source": []
  }
 ],
 "metadata": {
  "kernelspec": {
   "display_name": "Python 3",
   "language": "python",
   "name": "python3"
  },
  "language_info": {
   "codemirror_mode": {
    "name": "ipython",
    "version": 3
   },
   "file_extension": ".py",
   "mimetype": "text/x-python",
   "name": "python",
   "nbconvert_exporter": "python",
   "pygments_lexer": "ipython3",
   "version": "3.4.3"
  }
 },
 "nbformat": 4,
 "nbformat_minor": 2
}
