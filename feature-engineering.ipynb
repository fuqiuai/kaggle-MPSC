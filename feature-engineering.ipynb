{
 "cells": [
  {
   "cell_type": "markdown",
   "metadata": {},
   "source": [
    "#  Feature engineering in MPSC"
   ]
  },
  {
   "cell_type": "code",
   "execution_count": 32,
   "metadata": {},
   "outputs": [],
   "source": [
    "# import package\n",
    "import pandas as pd\n",
    "import numpy as np\n",
    "\n",
    "from sklearn.feature_extraction.text import TfidfVectorizer\n",
    "from sklearn.decomposition import TruncatedSVD\n",
    "from sklearn.decomposition import IncrementalPCA\n",
    "from sklearn.linear_model import SGDRegressor\n",
    "from sklearn.model_selection import train_test_split\n",
    "from sklearn.metrics import mean_squared_log_error\n",
    "\n",
    "import time\n",
    "import math"
   ]
  },
  {
   "cell_type": "code",
   "execution_count": 2,
   "metadata": {},
   "outputs": [],
   "source": [
    "# load data\n",
    "train = pd.read_csv('./data/train.tsv',delimiter='\\t')\n",
    "test = pd.read_csv('./data/test.tsv',delimiter='\\t')"
   ]
  },
  {
   "cell_type": "code",
   "execution_count": 4,
   "metadata": {},
   "outputs": [],
   "source": [
    "# concat train and test\n",
    "dataset = pd.concat([train, test]).reset_index(drop=True)"
   ]
  },
  {
   "cell_type": "markdown",
   "metadata": {},
   "source": [
    "## 1 item_description\n",
    "因为item_description缺失只有4条，因此采取直接丢失的办法，然后用TF-IDF + SVD降维进行处理。最后生成一个DataFrame：**itemsvd**"
   ]
  },
  {
   "cell_type": "code",
   "execution_count": 17,
   "metadata": {},
   "outputs": [
    {
     "name": "stdout",
     "output_type": "stream",
     "text": [
      "(2175890, 9)\n",
      "(2175890, 9)\n"
     ]
    }
   ],
   "source": [
    "# 丢掉item_description缺失的行\n",
    "print(dataset.shape)\n",
    "dataset = dataset.loc[dataset['item_description']== dataset['item_description']]\n",
    "dataset.index = range(0, len(dataset.index))\n",
    "print(dataset.shape)"
   ]
  },
  {
   "cell_type": "code",
   "execution_count": 11,
   "metadata": {},
   "outputs": [
    {
     "name": "stdout",
     "output_type": "stream",
     "text": [
      "Tf-idf start...\n",
      "Tf-idf end\n",
      "Tf-idf cost  74.70364570617676 s\n"
     ]
    }
   ],
   "source": [
    "# TF-IDF提取特征\n",
    "time1 = time.time()\n",
    "print(\"Tf-idf start...\")\n",
    "\n",
    "vectorizer = TfidfVectorizer(stop_words='english')\n",
    "item_Tfidf = vectorizer.fit_transform(list(dataset[\"item_description\"].values))\n",
    "\n",
    "time2 = time.time()\n",
    "print(\"Tf-idf end\")\n",
    "print(\"Tf-idf cost \", time2-time1, \"s\")"
   ]
  },
  {
   "cell_type": "code",
   "execution_count": 30,
   "metadata": {},
   "outputs": [
    {
     "name": "stdout",
     "output_type": "stream",
     "text": [
      "<class 'scipy.sparse.csr.csr_matrix'>\n",
      "降维前数据大小： (2175890, 197497)\n"
     ]
    }
   ],
   "source": [
    "print(type(item_Tfidf))\n",
    "print(\"降维前数据大小：\", item_Tfidf.shape)"
   ]
  },
  {
   "cell_type": "code",
   "execution_count": 37,
   "metadata": {},
   "outputs": [
    {
     "name": "stdout",
     "output_type": "stream",
     "text": [
      "Dimensionality reduction start...\n",
      "Dimensionality reduction end\n",
      "Dimensionality reduction cost  41.22044324874878 s\n"
     ]
    }
   ],
   "source": [
    "# SVD降维\n",
    "time1 = time.time()\n",
    "print(\"Dimensionality reduction start...\")\n",
    "\n",
    "n_comp = 20 # 降维之后的维度\n",
    "trunsvd = TruncatedSVD(n_components=n_comp, algorithm='arpack')\n",
    "itemsvd = pd.DataFrame(trunsvd.fit_transform(item_Tfidf))\n",
    "itemsvd.columns = ['subitem_'+str(i) for i in range(n_comp)]\n",
    "\n",
    "time2 = time.time()\n",
    "print(\"Dimensionality reduction end\")\n",
    "print(\"Dimensionality reduction cost \", time2-time1, \"s\")"
   ]
  },
  {
   "cell_type": "code",
   "execution_count": 38,
   "metadata": {},
   "outputs": [
    {
     "name": "stdout",
     "output_type": "stream",
     "text": [
      "<class 'pandas.core.frame.DataFrame'>\n",
      "降维后数据大小： (2175890, 20)\n"
     ]
    },
    {
     "data": {
      "text/html": [
       "<div>\n",
       "<style>\n",
       "    .dataframe thead tr:only-child th {\n",
       "        text-align: right;\n",
       "    }\n",
       "\n",
       "    .dataframe thead th {\n",
       "        text-align: left;\n",
       "    }\n",
       "\n",
       "    .dataframe tbody tr th {\n",
       "        vertical-align: top;\n",
       "    }\n",
       "</style>\n",
       "<table border=\"1\" class=\"dataframe\">\n",
       "  <thead>\n",
       "    <tr style=\"text-align: right;\">\n",
       "      <th></th>\n",
       "      <th>subitem_0</th>\n",
       "      <th>subitem_1</th>\n",
       "      <th>subitem_2</th>\n",
       "      <th>subitem_3</th>\n",
       "      <th>subitem_4</th>\n",
       "      <th>subitem_5</th>\n",
       "      <th>subitem_6</th>\n",
       "      <th>subitem_7</th>\n",
       "      <th>subitem_8</th>\n",
       "      <th>subitem_9</th>\n",
       "      <th>subitem_10</th>\n",
       "      <th>subitem_11</th>\n",
       "      <th>subitem_12</th>\n",
       "      <th>subitem_13</th>\n",
       "      <th>subitem_14</th>\n",
       "      <th>subitem_15</th>\n",
       "      <th>subitem_16</th>\n",
       "      <th>subitem_17</th>\n",
       "      <th>subitem_18</th>\n",
       "      <th>subitem_19</th>\n",
       "    </tr>\n",
       "  </thead>\n",
       "  <tbody>\n",
       "    <tr>\n",
       "      <th>0</th>\n",
       "      <td>0.999997</td>\n",
       "      <td>-0.001790</td>\n",
       "      <td>0.000310</td>\n",
       "      <td>-0.000069</td>\n",
       "      <td>-0.000830</td>\n",
       "      <td>-0.000124</td>\n",
       "      <td>-0.000026</td>\n",
       "      <td>0.000374</td>\n",
       "      <td>0.000142</td>\n",
       "      <td>0.000101</td>\n",
       "      <td>0.000064</td>\n",
       "      <td>0.000128</td>\n",
       "      <td>-0.000019</td>\n",
       "      <td>0.000111</td>\n",
       "      <td>0.000094</td>\n",
       "      <td>-0.000115</td>\n",
       "      <td>0.000100</td>\n",
       "      <td>0.000041</td>\n",
       "      <td>0.000005</td>\n",
       "      <td>-0.000069</td>\n",
       "    </tr>\n",
       "    <tr>\n",
       "      <th>1</th>\n",
       "      <td>0.000141</td>\n",
       "      <td>0.068881</td>\n",
       "      <td>-0.068222</td>\n",
       "      <td>0.081429</td>\n",
       "      <td>-0.025125</td>\n",
       "      <td>0.006459</td>\n",
       "      <td>-0.031117</td>\n",
       "      <td>-0.063037</td>\n",
       "      <td>0.082440</td>\n",
       "      <td>-0.005979</td>\n",
       "      <td>0.086945</td>\n",
       "      <td>-0.062698</td>\n",
       "      <td>-0.026055</td>\n",
       "      <td>0.038097</td>\n",
       "      <td>0.017110</td>\n",
       "      <td>0.021093</td>\n",
       "      <td>-0.026514</td>\n",
       "      <td>0.017586</td>\n",
       "      <td>-0.031630</td>\n",
       "      <td>0.022994</td>\n",
       "    </tr>\n",
       "    <tr>\n",
       "      <th>2</th>\n",
       "      <td>0.000132</td>\n",
       "      <td>0.038013</td>\n",
       "      <td>-0.022175</td>\n",
       "      <td>-0.024939</td>\n",
       "      <td>0.034180</td>\n",
       "      <td>-0.006637</td>\n",
       "      <td>0.005821</td>\n",
       "      <td>-0.032253</td>\n",
       "      <td>0.005179</td>\n",
       "      <td>-0.084634</td>\n",
       "      <td>-0.077780</td>\n",
       "      <td>-0.056461</td>\n",
       "      <td>-0.003477</td>\n",
       "      <td>0.014078</td>\n",
       "      <td>-0.044704</td>\n",
       "      <td>-0.041864</td>\n",
       "      <td>-0.038415</td>\n",
       "      <td>0.024993</td>\n",
       "      <td>0.001792</td>\n",
       "      <td>-0.047669</td>\n",
       "    </tr>\n",
       "  </tbody>\n",
       "</table>\n",
       "</div>"
      ],
      "text/plain": [
       "   subitem_0  subitem_1  subitem_2  subitem_3  subitem_4  subitem_5  \\\n",
       "0   0.999997  -0.001790   0.000310  -0.000069  -0.000830  -0.000124   \n",
       "1   0.000141   0.068881  -0.068222   0.081429  -0.025125   0.006459   \n",
       "2   0.000132   0.038013  -0.022175  -0.024939   0.034180  -0.006637   \n",
       "\n",
       "   subitem_6  subitem_7  subitem_8  subitem_9  subitem_10  subitem_11  \\\n",
       "0  -0.000026   0.000374   0.000142   0.000101    0.000064    0.000128   \n",
       "1  -0.031117  -0.063037   0.082440  -0.005979    0.086945   -0.062698   \n",
       "2   0.005821  -0.032253   0.005179  -0.084634   -0.077780   -0.056461   \n",
       "\n",
       "   subitem_12  subitem_13  subitem_14  subitem_15  subitem_16  subitem_17  \\\n",
       "0   -0.000019    0.000111    0.000094   -0.000115    0.000100    0.000041   \n",
       "1   -0.026055    0.038097    0.017110    0.021093   -0.026514    0.017586   \n",
       "2   -0.003477    0.014078   -0.044704   -0.041864   -0.038415    0.024993   \n",
       "\n",
       "   subitem_18  subitem_19  \n",
       "0    0.000005   -0.000069  \n",
       "1   -0.031630    0.022994  \n",
       "2    0.001792   -0.047669  "
      ]
     },
     "execution_count": 38,
     "metadata": {},
     "output_type": "execute_result"
    }
   ],
   "source": [
    "print(type(itemsvd))\n",
    "print(\"降维后数据大小：\", itemsvd.shape)\n",
    "itemsvd.head(3)"
   ]
  },
  {
   "cell_type": "markdown",
   "metadata": {},
   "source": [
    "## 2 name\n",
    "用TF-IDF + SVD降维处理，处理方法与item_description相同。最后生成一个DataFrame：**namesvd**"
   ]
  },
  {
   "cell_type": "code",
   "execution_count": 42,
   "metadata": {},
   "outputs": [
    {
     "name": "stdout",
     "output_type": "stream",
     "text": [
      "Tf-idf start...\n",
      "Tf-idf end\n",
      "Tf-idf cost  22.021522998809814 s\n"
     ]
    }
   ],
   "source": [
    "# TF-IDF提取特征\n",
    "time1 = time.time()\n",
    "print(\"Tf-idf start...\")\n",
    "\n",
    "vectorizer = TfidfVectorizer(stop_words='english')\n",
    "name_Tfidf = vectorizer.fit_transform(list(dataset[\"name\"].values))\n",
    "\n",
    "time2 = time.time()\n",
    "print(\"Tf-idf end\")\n",
    "print(\"Tf-idf cost \", time2-time1, \"s\")"
   ]
  },
  {
   "cell_type": "code",
   "execution_count": 43,
   "metadata": {},
   "outputs": [
    {
     "name": "stdout",
     "output_type": "stream",
     "text": [
      "<class 'scipy.sparse.csr.csr_matrix'>\n",
      "降维前数据大小： (2175890, 130775)\n"
     ]
    }
   ],
   "source": [
    "print(type(name_Tfidf))\n",
    "print(\"降维前数据大小：\", name_Tfidf.shape)"
   ]
  },
  {
   "cell_type": "code",
   "execution_count": 45,
   "metadata": {},
   "outputs": [
    {
     "name": "stdout",
     "output_type": "stream",
     "text": [
      "Dimensionality reduction start...\n",
      "Dimensionality reduction end\n",
      "Dimensionality reduction cost  22.48158025741577 s\n"
     ]
    }
   ],
   "source": [
    "# SVD降维\n",
    "time1 = time.time()\n",
    "print(\"Dimensionality reduction start...\")\n",
    "\n",
    "n_comp = 20 # 降维之后的维度\n",
    "trunsvd = TruncatedSVD(n_components=n_comp, algorithm='arpack')\n",
    "namesvd = pd.DataFrame(trunsvd.fit_transform(name_Tfidf))\n",
    "namesvd.columns = ['subname_'+str(i) for i in range(n_comp)]\n",
    "\n",
    "time2 = time.time()\n",
    "print(\"Dimensionality reduction end\")\n",
    "print(\"Dimensionality reduction cost \", time2-time1, \"s\")"
   ]
  },
  {
   "cell_type": "code",
   "execution_count": 47,
   "metadata": {},
   "outputs": [
    {
     "name": "stdout",
     "output_type": "stream",
     "text": [
      "<class 'pandas.core.frame.DataFrame'>\n",
      "降维后数据大小： (2175890, 20)\n"
     ]
    },
    {
     "data": {
      "text/html": [
       "<div>\n",
       "<style>\n",
       "    .dataframe thead tr:only-child th {\n",
       "        text-align: right;\n",
       "    }\n",
       "\n",
       "    .dataframe thead th {\n",
       "        text-align: left;\n",
       "    }\n",
       "\n",
       "    .dataframe tbody tr th {\n",
       "        vertical-align: top;\n",
       "    }\n",
       "</style>\n",
       "<table border=\"1\" class=\"dataframe\">\n",
       "  <thead>\n",
       "    <tr style=\"text-align: right;\">\n",
       "      <th></th>\n",
       "      <th>subname_0</th>\n",
       "      <th>subname_1</th>\n",
       "      <th>subname_2</th>\n",
       "      <th>subname_3</th>\n",
       "      <th>subname_4</th>\n",
       "      <th>subname_5</th>\n",
       "      <th>subname_6</th>\n",
       "      <th>subname_7</th>\n",
       "      <th>subname_8</th>\n",
       "      <th>subname_9</th>\n",
       "      <th>subname_10</th>\n",
       "      <th>subname_11</th>\n",
       "      <th>subname_12</th>\n",
       "      <th>subname_13</th>\n",
       "      <th>subname_14</th>\n",
       "      <th>subname_15</th>\n",
       "      <th>subname_16</th>\n",
       "      <th>subname_17</th>\n",
       "      <th>subname_18</th>\n",
       "      <th>subname_19</th>\n",
       "    </tr>\n",
       "  </thead>\n",
       "  <tbody>\n",
       "    <tr>\n",
       "      <th>0</th>\n",
       "      <td>0.051746</td>\n",
       "      <td>0.029468</td>\n",
       "      <td>0.019688</td>\n",
       "      <td>-0.069712</td>\n",
       "      <td>0.126573</td>\n",
       "      <td>-0.026622</td>\n",
       "      <td>0.092028</td>\n",
       "      <td>0.103965</td>\n",
       "      <td>0.126855</td>\n",
       "      <td>0.143488</td>\n",
       "      <td>-0.043068</td>\n",
       "      <td>-0.054080</td>\n",
       "      <td>-0.005593</td>\n",
       "      <td>-0.090010</td>\n",
       "      <td>-0.009460</td>\n",
       "      <td>0.026508</td>\n",
       "      <td>0.024064</td>\n",
       "      <td>-0.007097</td>\n",
       "      <td>-0.042367</td>\n",
       "      <td>-0.000171</td>\n",
       "    </tr>\n",
       "    <tr>\n",
       "      <th>1</th>\n",
       "      <td>0.000075</td>\n",
       "      <td>0.000022</td>\n",
       "      <td>0.000040</td>\n",
       "      <td>-0.000113</td>\n",
       "      <td>0.000137</td>\n",
       "      <td>0.000621</td>\n",
       "      <td>-0.000091</td>\n",
       "      <td>-0.000122</td>\n",
       "      <td>-0.000149</td>\n",
       "      <td>0.000095</td>\n",
       "      <td>-0.000113</td>\n",
       "      <td>0.000157</td>\n",
       "      <td>-0.000103</td>\n",
       "      <td>0.000015</td>\n",
       "      <td>-0.000001</td>\n",
       "      <td>-0.000012</td>\n",
       "      <td>-0.000034</td>\n",
       "      <td>-0.000010</td>\n",
       "      <td>-0.000044</td>\n",
       "      <td>0.000026</td>\n",
       "    </tr>\n",
       "    <tr>\n",
       "      <th>2</th>\n",
       "      <td>0.001794</td>\n",
       "      <td>0.001015</td>\n",
       "      <td>0.001415</td>\n",
       "      <td>-0.002837</td>\n",
       "      <td>0.004432</td>\n",
       "      <td>0.001054</td>\n",
       "      <td>0.005960</td>\n",
       "      <td>-0.000219</td>\n",
       "      <td>-0.001012</td>\n",
       "      <td>0.000202</td>\n",
       "      <td>-0.000159</td>\n",
       "      <td>-0.003266</td>\n",
       "      <td>0.000844</td>\n",
       "      <td>-0.000820</td>\n",
       "      <td>-0.000521</td>\n",
       "      <td>-0.000137</td>\n",
       "      <td>-0.001059</td>\n",
       "      <td>-0.000080</td>\n",
       "      <td>0.003946</td>\n",
       "      <td>-0.002160</td>\n",
       "    </tr>\n",
       "  </tbody>\n",
       "</table>\n",
       "</div>"
      ],
      "text/plain": [
       "   subname_0  subname_1  subname_2  subname_3  subname_4  subname_5  \\\n",
       "0   0.051746   0.029468   0.019688  -0.069712   0.126573  -0.026622   \n",
       "1   0.000075   0.000022   0.000040  -0.000113   0.000137   0.000621   \n",
       "2   0.001794   0.001015   0.001415  -0.002837   0.004432   0.001054   \n",
       "\n",
       "   subname_6  subname_7  subname_8  subname_9  subname_10  subname_11  \\\n",
       "0   0.092028   0.103965   0.126855   0.143488   -0.043068   -0.054080   \n",
       "1  -0.000091  -0.000122  -0.000149   0.000095   -0.000113    0.000157   \n",
       "2   0.005960  -0.000219  -0.001012   0.000202   -0.000159   -0.003266   \n",
       "\n",
       "   subname_12  subname_13  subname_14  subname_15  subname_16  subname_17  \\\n",
       "0   -0.005593   -0.090010   -0.009460    0.026508    0.024064   -0.007097   \n",
       "1   -0.000103    0.000015   -0.000001   -0.000012   -0.000034   -0.000010   \n",
       "2    0.000844   -0.000820   -0.000521   -0.000137   -0.001059   -0.000080   \n",
       "\n",
       "   subname_18  subname_19  \n",
       "0   -0.042367   -0.000171  \n",
       "1   -0.000044    0.000026  \n",
       "2    0.003946   -0.002160  "
      ]
     },
     "execution_count": 47,
     "metadata": {},
     "output_type": "execute_result"
    }
   ],
   "source": [
    "print(type(namesvd))\n",
    "print(\"降维后数据大小：\", namesvd.shape)\n",
    "namesvd.head(3)"
   ]
  },
  {
   "cell_type": "markdown",
   "metadata": {},
   "source": [
    "## 3 brand_name\n",
    "生成两个特征，**brand_bool**和**brand_label**"
   ]
  },
  {
   "cell_type": "code",
   "execution_count": 49,
   "metadata": {},
   "outputs": [
    {
     "name": "stdout",
     "output_type": "stream",
     "text": [
      "1    1247686\n",
      "0     928204\n",
      "Name: brand_bool, dtype: int64\n"
     ]
    }
   ],
   "source": [
    "# generated brand_bool\n",
    "def if_brand(x):\n",
    "    if x == x:\n",
    "        return 1\n",
    "    else:\n",
    "        return 0\n",
    "    \n",
    "dataset[\"brand_bool\"] = dataset[\"brand_name\"].apply(lambda x : if_brand(x))\n",
    "print(dataset[\"brand_bool\"].value_counts())"
   ]
  },
  {
   "cell_type": "code",
   "execution_count": 51,
   "metadata": {},
   "outputs": [],
   "source": [
    "# generated brand_label\n",
    "keys = dataset['brand_name'].dropna().unique() # 除去缺失值后brand_name的unique\n",
    "indexs = list(range(1, len(keys)+1))\n",
    "\n",
    "brand_dict = dict(zip(keys, indexs))\n",
    "\n",
    "def brand_label(x):\n",
    "    try:\n",
    "        return brand_dict[x]\n",
    "    except:\n",
    "        return 0\n",
    "\n",
    "dataset[\"brand_label\"] = dataset['brand_name'].apply(lambda x: brand_label(x))"
   ]
  },
  {
   "cell_type": "code",
   "execution_count": 52,
   "metadata": {},
   "outputs": [
    {
     "name": "stdout",
     "output_type": "stream",
     "text": [
      "(2175890, 11)\n"
     ]
    },
    {
     "data": {
      "text/html": [
       "<div>\n",
       "<style>\n",
       "    .dataframe thead tr:only-child th {\n",
       "        text-align: right;\n",
       "    }\n",
       "\n",
       "    .dataframe thead th {\n",
       "        text-align: left;\n",
       "    }\n",
       "\n",
       "    .dataframe tbody tr th {\n",
       "        vertical-align: top;\n",
       "    }\n",
       "</style>\n",
       "<table border=\"1\" class=\"dataframe\">\n",
       "  <thead>\n",
       "    <tr style=\"text-align: right;\">\n",
       "      <th></th>\n",
       "      <th>brand_name</th>\n",
       "      <th>category_name</th>\n",
       "      <th>item_condition_id</th>\n",
       "      <th>item_description</th>\n",
       "      <th>name</th>\n",
       "      <th>price</th>\n",
       "      <th>shipping</th>\n",
       "      <th>test_id</th>\n",
       "      <th>train_id</th>\n",
       "      <th>brand_bool</th>\n",
       "      <th>brand_label</th>\n",
       "    </tr>\n",
       "  </thead>\n",
       "  <tbody>\n",
       "    <tr>\n",
       "      <th>0</th>\n",
       "      <td>NaN</td>\n",
       "      <td>Men/Tops/T-shirts</td>\n",
       "      <td>3</td>\n",
       "      <td>No description yet</td>\n",
       "      <td>MLB Cincinnati Reds T Shirt Size XL</td>\n",
       "      <td>10.0</td>\n",
       "      <td>1</td>\n",
       "      <td>NaN</td>\n",
       "      <td>0.0</td>\n",
       "      <td>0</td>\n",
       "      <td>0</td>\n",
       "    </tr>\n",
       "    <tr>\n",
       "      <th>1</th>\n",
       "      <td>Razer</td>\n",
       "      <td>Electronics/Computers &amp; Tablets/Components &amp; P...</td>\n",
       "      <td>3</td>\n",
       "      <td>This keyboard is in great condition and works ...</td>\n",
       "      <td>Razer BlackWidow Chroma Keyboard</td>\n",
       "      <td>52.0</td>\n",
       "      <td>0</td>\n",
       "      <td>NaN</td>\n",
       "      <td>1.0</td>\n",
       "      <td>1</td>\n",
       "      <td>1</td>\n",
       "    </tr>\n",
       "    <tr>\n",
       "      <th>2</th>\n",
       "      <td>Target</td>\n",
       "      <td>Women/Tops &amp; Blouses/Blouse</td>\n",
       "      <td>1</td>\n",
       "      <td>Adorable top with a hint of lace and a key hol...</td>\n",
       "      <td>AVA-VIV Blouse</td>\n",
       "      <td>10.0</td>\n",
       "      <td>1</td>\n",
       "      <td>NaN</td>\n",
       "      <td>2.0</td>\n",
       "      <td>1</td>\n",
       "      <td>2</td>\n",
       "    </tr>\n",
       "  </tbody>\n",
       "</table>\n",
       "</div>"
      ],
      "text/plain": [
       "  brand_name                                      category_name  \\\n",
       "0        NaN                                  Men/Tops/T-shirts   \n",
       "1      Razer  Electronics/Computers & Tablets/Components & P...   \n",
       "2     Target                        Women/Tops & Blouses/Blouse   \n",
       "\n",
       "   item_condition_id                                   item_description  \\\n",
       "0                  3                                 No description yet   \n",
       "1                  3  This keyboard is in great condition and works ...   \n",
       "2                  1  Adorable top with a hint of lace and a key hol...   \n",
       "\n",
       "                                  name  price  shipping  test_id  train_id  \\\n",
       "0  MLB Cincinnati Reds T Shirt Size XL   10.0         1      NaN       0.0   \n",
       "1     Razer BlackWidow Chroma Keyboard   52.0         0      NaN       1.0   \n",
       "2                       AVA-VIV Blouse   10.0         1      NaN       2.0   \n",
       "\n",
       "   brand_bool  brand_label  \n",
       "0           0            0  \n",
       "1           1            1  \n",
       "2           1            2  "
      ]
     },
     "execution_count": 52,
     "metadata": {},
     "output_type": "execute_result"
    }
   ],
   "source": [
    "print(dataset.shape)\n",
    "dataset.head(3)"
   ]
  },
  {
   "cell_type": "markdown",
   "metadata": {
    "collapsed": true
   },
   "source": [
    "##  4 category_name\n",
    "首先将category_name分割成三个子特征,subcat1,subcat2和subcat3，再为每个子特征生成一个新特征**cat1_label，cat2_label，cat3_label**\n",
    "<br>，再根据category_name生成**cat_bool**特征，总共新生成了4个特征。具体做法与brand_name相同"
   ]
  },
  {
   "cell_type": "code",
   "execution_count": 63,
   "metadata": {},
   "outputs": [],
   "source": [
    "# generator subcat_1 subcat_2 and subcat_3\n",
    "def split_cat(text):\n",
    "    try: return text.split(\"/\", 2)\n",
    "    except: return (\"NoLabel\", \"NoLabel\", \"NoLabel\")\n",
    "    \n",
    "# zip返回一个元祖列表，该元祖按顺序包含每个序列的相应元素，以最小的一个为准。* 用来传递任意个无名字参数，这些参数会一个Tuple的形式访问\n",
    "dataset['subcat_1'], dataset['subcat_2'], dataset['subcat_3'] = zip(*dataset['category_name'].apply(lambda x: split_cat(x))) "
   ]
  },
  {
   "cell_type": "code",
   "execution_count": 64,
   "metadata": {},
   "outputs": [],
   "source": [
    "# making dictionaries for different categories \n",
    "keys = dataset[\"subcat_1\"].unique()\n",
    "indexs = list(range(1, len(keys)+1))\n",
    "cat1_dict = dict(zip(keys, indexs))\n",
    "\n",
    "keys2 = dataset[\"subcat_2\"].unique()\n",
    "indexs2 = list(range(1, len(keys2)+1))\n",
    "cat2_dict = dict(zip(keys2, indexs2))\n",
    "\n",
    "keys3 = dataset[\"subcat_3\"].unique()\n",
    "indexs3 = list(range(1, len(keys3)+1))\n",
    "cat3_dict = dict(zip(keys3, indexs3))"
   ]
  },
  {
   "cell_type": "code",
   "execution_count": 65,
   "metadata": {},
   "outputs": [
    {
     "name": "stdout",
     "output_type": "stream",
     "text": [
      "{'NoLabel': 10, 'Sports & Outdoors': 5, 'Kids': 9, 'Beauty': 7, 'Women': 3, 'Vintage & Collectibles': 6, 'Home': 4, 'Electronics': 2, 'Handmade': 11, 'Men': 1, 'Other': 8}\n"
     ]
    }
   ],
   "source": [
    "print(cat1_dict)"
   ]
  },
  {
   "cell_type": "code",
   "execution_count": 66,
   "metadata": {},
   "outputs": [],
   "source": [
    "# generate cat1_label cat2_label and cat3_label\n",
    "def cat_label(row,cat1_dict = cat1_dict, cat2_dict = cat2_dict, cat3_dict = cat3_dict):\n",
    "    txt1 = row['subcat_1']\n",
    "    txt2 = row['subcat_2']\n",
    "    txt3 = row['subcat_3']\n",
    "    try:\n",
    "        return cat1_dict[txt1], cat2_dict[txt2], cat3_dict[txt3]\n",
    "    except:\n",
    "        return 0\n",
    "\n",
    "dataset[\"cat1_label\"], dataset[\"cat2_label\"], dataset[\"cat3_label\"] = zip(*dataset.apply(lambda val: cat_label(val), axis =1))"
   ]
  },
  {
   "cell_type": "code",
   "execution_count": 67,
   "metadata": {},
   "outputs": [
    {
     "name": "stdout",
     "output_type": "stream",
     "text": [
      "1    2166505\n",
      "0       9385\n",
      "Name: cat_bool, dtype: int64\n"
     ]
    }
   ],
   "source": [
    "# generate cat_bool\n",
    "def if_category(x):\n",
    "    if x == x:\n",
    "        return 1\n",
    "    else:\n",
    "        return 0\n",
    "    \n",
    "dataset[\"cat_bool\"] = dataset[\"category_name\"].apply(lambda x : if_category(x))\n",
    "print(dataset[\"cat_bool\"].value_counts())"
   ]
  },
  {
   "cell_type": "code",
   "execution_count": 68,
   "metadata": {},
   "outputs": [],
   "source": [
    "# drop subcat_1 subcat_2 and subcat_3\n",
    "dataset.drop(labels=[\"subcat_1\", \"subcat_2\", \"subcat_3\"], axis=1, inplace=True) # inplace=True表示直接在原dataset中进行删除"
   ]
  },
  {
   "cell_type": "code",
   "execution_count": 71,
   "metadata": {},
   "outputs": [
    {
     "name": "stdout",
     "output_type": "stream",
     "text": [
      "(2175890, 15)\n"
     ]
    },
    {
     "data": {
      "text/html": [
       "<div>\n",
       "<style>\n",
       "    .dataframe thead tr:only-child th {\n",
       "        text-align: right;\n",
       "    }\n",
       "\n",
       "    .dataframe thead th {\n",
       "        text-align: left;\n",
       "    }\n",
       "\n",
       "    .dataframe tbody tr th {\n",
       "        vertical-align: top;\n",
       "    }\n",
       "</style>\n",
       "<table border=\"1\" class=\"dataframe\">\n",
       "  <thead>\n",
       "    <tr style=\"text-align: right;\">\n",
       "      <th></th>\n",
       "      <th>brand_name</th>\n",
       "      <th>category_name</th>\n",
       "      <th>item_condition_id</th>\n",
       "      <th>item_description</th>\n",
       "      <th>name</th>\n",
       "      <th>price</th>\n",
       "      <th>shipping</th>\n",
       "      <th>test_id</th>\n",
       "      <th>train_id</th>\n",
       "      <th>brand_bool</th>\n",
       "      <th>brand_label</th>\n",
       "      <th>cat1_label</th>\n",
       "      <th>cat2_label</th>\n",
       "      <th>cat_bool</th>\n",
       "      <th>cat3_label</th>\n",
       "    </tr>\n",
       "  </thead>\n",
       "  <tbody>\n",
       "    <tr>\n",
       "      <th>0</th>\n",
       "      <td>NaN</td>\n",
       "      <td>Men/Tops/T-shirts</td>\n",
       "      <td>3</td>\n",
       "      <td>No description yet</td>\n",
       "      <td>MLB Cincinnati Reds T Shirt Size XL</td>\n",
       "      <td>10.0</td>\n",
       "      <td>1</td>\n",
       "      <td>NaN</td>\n",
       "      <td>0.0</td>\n",
       "      <td>0</td>\n",
       "      <td>0</td>\n",
       "      <td>1</td>\n",
       "      <td>1</td>\n",
       "      <td>1</td>\n",
       "      <td>1</td>\n",
       "    </tr>\n",
       "    <tr>\n",
       "      <th>1</th>\n",
       "      <td>Razer</td>\n",
       "      <td>Electronics/Computers &amp; Tablets/Components &amp; P...</td>\n",
       "      <td>3</td>\n",
       "      <td>This keyboard is in great condition and works ...</td>\n",
       "      <td>Razer BlackWidow Chroma Keyboard</td>\n",
       "      <td>52.0</td>\n",
       "      <td>0</td>\n",
       "      <td>NaN</td>\n",
       "      <td>1.0</td>\n",
       "      <td>1</td>\n",
       "      <td>1</td>\n",
       "      <td>2</td>\n",
       "      <td>2</td>\n",
       "      <td>1</td>\n",
       "      <td>2</td>\n",
       "    </tr>\n",
       "    <tr>\n",
       "      <th>2</th>\n",
       "      <td>Target</td>\n",
       "      <td>Women/Tops &amp; Blouses/Blouse</td>\n",
       "      <td>1</td>\n",
       "      <td>Adorable top with a hint of lace and a key hol...</td>\n",
       "      <td>AVA-VIV Blouse</td>\n",
       "      <td>10.0</td>\n",
       "      <td>1</td>\n",
       "      <td>NaN</td>\n",
       "      <td>2.0</td>\n",
       "      <td>1</td>\n",
       "      <td>2</td>\n",
       "      <td>3</td>\n",
       "      <td>3</td>\n",
       "      <td>1</td>\n",
       "      <td>3</td>\n",
       "    </tr>\n",
       "  </tbody>\n",
       "</table>\n",
       "</div>"
      ],
      "text/plain": [
       "  brand_name                                      category_name  \\\n",
       "0        NaN                                  Men/Tops/T-shirts   \n",
       "1      Razer  Electronics/Computers & Tablets/Components & P...   \n",
       "2     Target                        Women/Tops & Blouses/Blouse   \n",
       "\n",
       "   item_condition_id                                   item_description  \\\n",
       "0                  3                                 No description yet   \n",
       "1                  3  This keyboard is in great condition and works ...   \n",
       "2                  1  Adorable top with a hint of lace and a key hol...   \n",
       "\n",
       "                                  name  price  shipping  test_id  train_id  \\\n",
       "0  MLB Cincinnati Reds T Shirt Size XL   10.0         1      NaN       0.0   \n",
       "1     Razer BlackWidow Chroma Keyboard   52.0         0      NaN       1.0   \n",
       "2                       AVA-VIV Blouse   10.0         1      NaN       2.0   \n",
       "\n",
       "   brand_bool  brand_label  cat1_label  cat2_label  cat_bool  cat3_label  \n",
       "0           0            0           1           1         1           1  \n",
       "1           1            1           2           2         1           2  \n",
       "2           1            2           3           3         1           3  "
      ]
     },
     "execution_count": 71,
     "metadata": {},
     "output_type": "execute_result"
    }
   ],
   "source": [
    "print(dataset.shape)\n",
    "dataset.head(3)"
   ]
  },
  {
   "cell_type": "markdown",
   "metadata": {},
   "source": [
    "# write to csv"
   ]
  },
  {
   "cell_type": "code",
   "execution_count": 72,
   "metadata": {},
   "outputs": [],
   "source": [
    "# drop brand_name category_name item_description and name\n",
    "dataset.drop(labels=[\"brand_name\", \"category_name\", \"item_description\", \"name\"], axis=1, inplace=True) # inplace=True表示直接在原dataset中进行删除"
   ]
  },
  {
   "cell_type": "code",
   "execution_count": 73,
   "metadata": {},
   "outputs": [
    {
     "name": "stdout",
     "output_type": "stream",
     "text": [
      "(2175890, 11)\n"
     ]
    },
    {
     "data": {
      "text/html": [
       "<div>\n",
       "<style>\n",
       "    .dataframe thead tr:only-child th {\n",
       "        text-align: right;\n",
       "    }\n",
       "\n",
       "    .dataframe thead th {\n",
       "        text-align: left;\n",
       "    }\n",
       "\n",
       "    .dataframe tbody tr th {\n",
       "        vertical-align: top;\n",
       "    }\n",
       "</style>\n",
       "<table border=\"1\" class=\"dataframe\">\n",
       "  <thead>\n",
       "    <tr style=\"text-align: right;\">\n",
       "      <th></th>\n",
       "      <th>item_condition_id</th>\n",
       "      <th>price</th>\n",
       "      <th>shipping</th>\n",
       "      <th>test_id</th>\n",
       "      <th>train_id</th>\n",
       "      <th>brand_bool</th>\n",
       "      <th>brand_label</th>\n",
       "      <th>cat1_label</th>\n",
       "      <th>cat2_label</th>\n",
       "      <th>cat_bool</th>\n",
       "      <th>cat3_label</th>\n",
       "    </tr>\n",
       "  </thead>\n",
       "  <tbody>\n",
       "    <tr>\n",
       "      <th>0</th>\n",
       "      <td>3</td>\n",
       "      <td>10.0</td>\n",
       "      <td>1</td>\n",
       "      <td>NaN</td>\n",
       "      <td>0.0</td>\n",
       "      <td>0</td>\n",
       "      <td>0</td>\n",
       "      <td>1</td>\n",
       "      <td>1</td>\n",
       "      <td>1</td>\n",
       "      <td>1</td>\n",
       "    </tr>\n",
       "    <tr>\n",
       "      <th>1</th>\n",
       "      <td>3</td>\n",
       "      <td>52.0</td>\n",
       "      <td>0</td>\n",
       "      <td>NaN</td>\n",
       "      <td>1.0</td>\n",
       "      <td>1</td>\n",
       "      <td>1</td>\n",
       "      <td>2</td>\n",
       "      <td>2</td>\n",
       "      <td>1</td>\n",
       "      <td>2</td>\n",
       "    </tr>\n",
       "    <tr>\n",
       "      <th>2</th>\n",
       "      <td>1</td>\n",
       "      <td>10.0</td>\n",
       "      <td>1</td>\n",
       "      <td>NaN</td>\n",
       "      <td>2.0</td>\n",
       "      <td>1</td>\n",
       "      <td>2</td>\n",
       "      <td>3</td>\n",
       "      <td>3</td>\n",
       "      <td>1</td>\n",
       "      <td>3</td>\n",
       "    </tr>\n",
       "    <tr>\n",
       "      <th>3</th>\n",
       "      <td>1</td>\n",
       "      <td>35.0</td>\n",
       "      <td>1</td>\n",
       "      <td>NaN</td>\n",
       "      <td>3.0</td>\n",
       "      <td>0</td>\n",
       "      <td>0</td>\n",
       "      <td>4</td>\n",
       "      <td>4</td>\n",
       "      <td>1</td>\n",
       "      <td>4</td>\n",
       "    </tr>\n",
       "    <tr>\n",
       "      <th>4</th>\n",
       "      <td>1</td>\n",
       "      <td>44.0</td>\n",
       "      <td>0</td>\n",
       "      <td>NaN</td>\n",
       "      <td>4.0</td>\n",
       "      <td>0</td>\n",
       "      <td>0</td>\n",
       "      <td>3</td>\n",
       "      <td>5</td>\n",
       "      <td>1</td>\n",
       "      <td>5</td>\n",
       "    </tr>\n",
       "  </tbody>\n",
       "</table>\n",
       "</div>"
      ],
      "text/plain": [
       "   item_condition_id  price  shipping  test_id  train_id  brand_bool  \\\n",
       "0                  3   10.0         1      NaN       0.0           0   \n",
       "1                  3   52.0         0      NaN       1.0           1   \n",
       "2                  1   10.0         1      NaN       2.0           1   \n",
       "3                  1   35.0         1      NaN       3.0           0   \n",
       "4                  1   44.0         0      NaN       4.0           0   \n",
       "\n",
       "   brand_label  cat1_label  cat2_label  cat_bool  cat3_label  \n",
       "0            0           1           1         1           1  \n",
       "1            1           2           2         1           2  \n",
       "2            2           3           3         1           3  \n",
       "3            0           4           4         1           4  \n",
       "4            0           3           5         1           5  "
      ]
     },
     "execution_count": 73,
     "metadata": {},
     "output_type": "execute_result"
    }
   ],
   "source": [
    "print(dataset.shape)\n",
    "dataset.head()"
   ]
  },
  {
   "cell_type": "code",
   "execution_count": 74,
   "metadata": {},
   "outputs": [
    {
     "name": "stdout",
     "output_type": "stream",
     "text": [
      "(2175890, 20) (2175890, 20) (2175890, 11)\n"
     ]
    }
   ],
   "source": [
    "print(itemsvd.shape, namesvd.shape, dataset.shape)"
   ]
  },
  {
   "cell_type": "code",
   "execution_count": 75,
   "metadata": {},
   "outputs": [
    {
     "name": "stdout",
     "output_type": "stream",
     "text": [
      "Concat start...\n",
      "Concat end\n",
      "Concat cost  1.757620096206665 s\n"
     ]
    }
   ],
   "source": [
    "# 将itemsvd和namesvd加入到dataset中\n",
    "time1 = time.time()\n",
    "print('Concat start...')\n",
    "\n",
    "dataset_new = pd.concat([dataset, itemsvd, namesvd], axis=1)\n",
    "\n",
    "time2 = time.time()\n",
    "print('Concat end')\n",
    "print(\"Concat cost \", time2-time1, \"s\")"
   ]
  },
  {
   "cell_type": "code",
   "execution_count": 80,
   "metadata": {},
   "outputs": [
    {
     "name": "stdout",
     "output_type": "stream",
     "text": [
      "(2175890, 51)\n",
      "item_condition_id          0\n",
      "price                 693359\n",
      "shipping                   0\n",
      "test_id              1482531\n",
      "train_id              693359\n",
      "brand_bool                 0\n",
      "brand_label                0\n",
      "cat1_label                 0\n",
      "cat2_label                 0\n",
      "cat_bool                   0\n",
      "cat3_label                 0\n",
      "subitem_0                  0\n",
      "subitem_1                  0\n",
      "subitem_2                  0\n",
      "subitem_3                  0\n",
      "subitem_4                  0\n",
      "subitem_5                  0\n",
      "subitem_6                  0\n",
      "subitem_7                  0\n",
      "subitem_8                  0\n",
      "subitem_9                  0\n",
      "subitem_10                 0\n",
      "subitem_11                 0\n",
      "subitem_12                 0\n",
      "subitem_13                 0\n",
      "subitem_14                 0\n",
      "subitem_15                 0\n",
      "subitem_16                 0\n",
      "subitem_17                 0\n",
      "subitem_18                 0\n",
      "subitem_19                 0\n",
      "subname_0                  0\n",
      "subname_1                  0\n",
      "subname_2                  0\n",
      "subname_3                  0\n",
      "subname_4                  0\n",
      "subname_5                  0\n",
      "subname_6                  0\n",
      "subname_7                  0\n",
      "subname_8                  0\n",
      "subname_9                  0\n",
      "subname_10                 0\n",
      "subname_11                 0\n",
      "subname_12                 0\n",
      "subname_13                 0\n",
      "subname_14                 0\n",
      "subname_15                 0\n",
      "subname_16                 0\n",
      "subname_17                 0\n",
      "subname_18                 0\n",
      "subname_19                 0\n",
      "dtype: int64\n"
     ]
    }
   ],
   "source": [
    "print(dataset_new.shape)\n",
    "print(dataset_new.isnull().sum())"
   ]
  },
  {
   "cell_type": "code",
   "execution_count": 81,
   "metadata": {},
   "outputs": [
    {
     "name": "stdout",
     "output_type": "stream",
     "text": [
      "Index(['item_condition_id', 'price', 'shipping', 'test_id', 'train_id',\n",
      "       'brand_bool', 'brand_label', 'cat1_label', 'cat2_label', 'cat_bool',\n",
      "       'cat3_label', 'subitem_0', 'subitem_1', 'subitem_2', 'subitem_3',\n",
      "       'subitem_4', 'subitem_5', 'subitem_6', 'subitem_7', 'subitem_8',\n",
      "       'subitem_9', 'subitem_10', 'subitem_11', 'subitem_12', 'subitem_13',\n",
      "       'subitem_14', 'subitem_15', 'subitem_16', 'subitem_17', 'subitem_18',\n",
      "       'subitem_19', 'subname_0', 'subname_1', 'subname_2', 'subname_3',\n",
      "       'subname_4', 'subname_5', 'subname_6', 'subname_7', 'subname_8',\n",
      "       'subname_9', 'subname_10', 'subname_11', 'subname_12', 'subname_13',\n",
      "       'subname_14', 'subname_15', 'subname_16', 'subname_17', 'subname_18',\n",
      "       'subname_19'],\n",
      "      dtype='object')\n"
     ]
    },
    {
     "data": {
      "text/html": [
       "<div>\n",
       "<style>\n",
       "    .dataframe thead tr:only-child th {\n",
       "        text-align: right;\n",
       "    }\n",
       "\n",
       "    .dataframe thead th {\n",
       "        text-align: left;\n",
       "    }\n",
       "\n",
       "    .dataframe tbody tr th {\n",
       "        vertical-align: top;\n",
       "    }\n",
       "</style>\n",
       "<table border=\"1\" class=\"dataframe\">\n",
       "  <thead>\n",
       "    <tr style=\"text-align: right;\">\n",
       "      <th></th>\n",
       "      <th>item_condition_id</th>\n",
       "      <th>price</th>\n",
       "      <th>shipping</th>\n",
       "      <th>test_id</th>\n",
       "      <th>train_id</th>\n",
       "      <th>brand_bool</th>\n",
       "      <th>brand_label</th>\n",
       "      <th>cat1_label</th>\n",
       "      <th>cat2_label</th>\n",
       "      <th>cat_bool</th>\n",
       "      <th>...</th>\n",
       "      <th>subname_10</th>\n",
       "      <th>subname_11</th>\n",
       "      <th>subname_12</th>\n",
       "      <th>subname_13</th>\n",
       "      <th>subname_14</th>\n",
       "      <th>subname_15</th>\n",
       "      <th>subname_16</th>\n",
       "      <th>subname_17</th>\n",
       "      <th>subname_18</th>\n",
       "      <th>subname_19</th>\n",
       "    </tr>\n",
       "  </thead>\n",
       "  <tbody>\n",
       "    <tr>\n",
       "      <th>0</th>\n",
       "      <td>3</td>\n",
       "      <td>10.0</td>\n",
       "      <td>1</td>\n",
       "      <td>NaN</td>\n",
       "      <td>0.0</td>\n",
       "      <td>0</td>\n",
       "      <td>0</td>\n",
       "      <td>1</td>\n",
       "      <td>1</td>\n",
       "      <td>1</td>\n",
       "      <td>...</td>\n",
       "      <td>-0.043068</td>\n",
       "      <td>-0.054080</td>\n",
       "      <td>-0.005593</td>\n",
       "      <td>-0.090010</td>\n",
       "      <td>-0.009460</td>\n",
       "      <td>0.026508</td>\n",
       "      <td>0.024064</td>\n",
       "      <td>-0.007097</td>\n",
       "      <td>-0.042367</td>\n",
       "      <td>-0.000171</td>\n",
       "    </tr>\n",
       "    <tr>\n",
       "      <th>1</th>\n",
       "      <td>3</td>\n",
       "      <td>52.0</td>\n",
       "      <td>0</td>\n",
       "      <td>NaN</td>\n",
       "      <td>1.0</td>\n",
       "      <td>1</td>\n",
       "      <td>1</td>\n",
       "      <td>2</td>\n",
       "      <td>2</td>\n",
       "      <td>1</td>\n",
       "      <td>...</td>\n",
       "      <td>-0.000113</td>\n",
       "      <td>0.000157</td>\n",
       "      <td>-0.000103</td>\n",
       "      <td>0.000015</td>\n",
       "      <td>-0.000001</td>\n",
       "      <td>-0.000012</td>\n",
       "      <td>-0.000034</td>\n",
       "      <td>-0.000010</td>\n",
       "      <td>-0.000044</td>\n",
       "      <td>0.000026</td>\n",
       "    </tr>\n",
       "    <tr>\n",
       "      <th>2</th>\n",
       "      <td>1</td>\n",
       "      <td>10.0</td>\n",
       "      <td>1</td>\n",
       "      <td>NaN</td>\n",
       "      <td>2.0</td>\n",
       "      <td>1</td>\n",
       "      <td>2</td>\n",
       "      <td>3</td>\n",
       "      <td>3</td>\n",
       "      <td>1</td>\n",
       "      <td>...</td>\n",
       "      <td>-0.000159</td>\n",
       "      <td>-0.003266</td>\n",
       "      <td>0.000844</td>\n",
       "      <td>-0.000820</td>\n",
       "      <td>-0.000521</td>\n",
       "      <td>-0.000137</td>\n",
       "      <td>-0.001059</td>\n",
       "      <td>-0.000080</td>\n",
       "      <td>0.003946</td>\n",
       "      <td>-0.002160</td>\n",
       "    </tr>\n",
       "    <tr>\n",
       "      <th>3</th>\n",
       "      <td>1</td>\n",
       "      <td>35.0</td>\n",
       "      <td>1</td>\n",
       "      <td>NaN</td>\n",
       "      <td>3.0</td>\n",
       "      <td>0</td>\n",
       "      <td>0</td>\n",
       "      <td>4</td>\n",
       "      <td>4</td>\n",
       "      <td>1</td>\n",
       "      <td>...</td>\n",
       "      <td>-0.011362</td>\n",
       "      <td>-0.013510</td>\n",
       "      <td>0.002793</td>\n",
       "      <td>-0.002177</td>\n",
       "      <td>0.000622</td>\n",
       "      <td>-0.001707</td>\n",
       "      <td>-0.008709</td>\n",
       "      <td>0.003225</td>\n",
       "      <td>0.023608</td>\n",
       "      <td>0.017805</td>\n",
       "    </tr>\n",
       "    <tr>\n",
       "      <th>4</th>\n",
       "      <td>1</td>\n",
       "      <td>44.0</td>\n",
       "      <td>0</td>\n",
       "      <td>NaN</td>\n",
       "      <td>4.0</td>\n",
       "      <td>0</td>\n",
       "      <td>0</td>\n",
       "      <td>3</td>\n",
       "      <td>5</td>\n",
       "      <td>1</td>\n",
       "      <td>...</td>\n",
       "      <td>-0.009359</td>\n",
       "      <td>-0.006795</td>\n",
       "      <td>0.010102</td>\n",
       "      <td>0.001983</td>\n",
       "      <td>-0.000288</td>\n",
       "      <td>0.000131</td>\n",
       "      <td>0.001570</td>\n",
       "      <td>0.010042</td>\n",
       "      <td>0.002580</td>\n",
       "      <td>0.001851</td>\n",
       "    </tr>\n",
       "  </tbody>\n",
       "</table>\n",
       "<p>5 rows × 51 columns</p>\n",
       "</div>"
      ],
      "text/plain": [
       "   item_condition_id  price  shipping  test_id  train_id  brand_bool  \\\n",
       "0                  3   10.0         1      NaN       0.0           0   \n",
       "1                  3   52.0         0      NaN       1.0           1   \n",
       "2                  1   10.0         1      NaN       2.0           1   \n",
       "3                  1   35.0         1      NaN       3.0           0   \n",
       "4                  1   44.0         0      NaN       4.0           0   \n",
       "\n",
       "   brand_label  cat1_label  cat2_label  cat_bool     ...      subname_10  \\\n",
       "0            0           1           1         1     ...       -0.043068   \n",
       "1            1           2           2         1     ...       -0.000113   \n",
       "2            2           3           3         1     ...       -0.000159   \n",
       "3            0           4           4         1     ...       -0.011362   \n",
       "4            0           3           5         1     ...       -0.009359   \n",
       "\n",
       "   subname_11  subname_12  subname_13  subname_14  subname_15  subname_16  \\\n",
       "0   -0.054080   -0.005593   -0.090010   -0.009460    0.026508    0.024064   \n",
       "1    0.000157   -0.000103    0.000015   -0.000001   -0.000012   -0.000034   \n",
       "2   -0.003266    0.000844   -0.000820   -0.000521   -0.000137   -0.001059   \n",
       "3   -0.013510    0.002793   -0.002177    0.000622   -0.001707   -0.008709   \n",
       "4   -0.006795    0.010102    0.001983   -0.000288    0.000131    0.001570   \n",
       "\n",
       "   subname_17  subname_18  subname_19  \n",
       "0   -0.007097   -0.042367   -0.000171  \n",
       "1   -0.000010   -0.000044    0.000026  \n",
       "2   -0.000080    0.003946   -0.002160  \n",
       "3    0.003225    0.023608    0.017805  \n",
       "4    0.010042    0.002580    0.001851  \n",
       "\n",
       "[5 rows x 51 columns]"
      ]
     },
     "execution_count": 81,
     "metadata": {},
     "output_type": "execute_result"
    }
   ],
   "source": [
    "print(dataset_new.columns)\n",
    "dataset_new.head()"
   ]
  },
  {
   "cell_type": "code",
   "execution_count": 82,
   "metadata": {},
   "outputs": [
    {
     "name": "stdout",
     "output_type": "stream",
     "text": [
      "Write start...\n",
      "Write end\n",
      "Write cost  257.78454303741455 s\n"
     ]
    }
   ],
   "source": [
    "time1 = time.time()\n",
    "print('Write start...')\n",
    "\n",
    "dataset_new.to_csv('./data/dataset_new.csv', index = False)\n",
    "\n",
    "time2 = time.time()\n",
    "print('Write end')\n",
    "print(\"Write cost \", time2-time1, \"s\")"
   ]
  }
 ],
 "metadata": {
  "kernelspec": {
   "display_name": "Python 3",
   "language": "python",
   "name": "python3"
  },
  "language_info": {
   "codemirror_mode": {
    "name": "ipython",
    "version": 3
   },
   "file_extension": ".py",
   "mimetype": "text/x-python",
   "name": "python",
   "nbconvert_exporter": "python",
   "pygments_lexer": "ipython3",
   "version": "3.4.3"
  }
 },
 "nbformat": 4,
 "nbformat_minor": 2
}
